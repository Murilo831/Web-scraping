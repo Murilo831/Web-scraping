{
 "cells": [
  {
   "cell_type": "code",
   "execution_count": 1,
   "metadata": {},
   "outputs": [],
   "source": [
    "import urllib.request # Usada pra consultar uma URL\n",
    "import csv\n",
    "import requests\n",
    "from selenium import webdriver\n",
    "from bs4 import BeautifulSoup # Analisa os dados retornados do site"
   ]
  },
  {
   "cell_type": "code",
   "execution_count": 2,
   "metadata": {},
   "outputs": [],
   "source": [
    "wiki = \"https://vitrine.alimentodeorigem.com.br/fornecedor/539\"\n",
    "\n",
    "page = urllib.request.urlopen(wiki)\n",
    "soup = BeautifulSoup(page, 'html5lib')\n",
    "for span_tag in soup.findAll('span'):\n",
    "    span_tag.replace_with('')"
   ]
  },
  {
   "cell_type": "code",
   "execution_count": 3,
   "metadata": {},
   "outputs": [
    {
     "name": "stdout",
     "output_type": "stream",
     "text": [
      "Saruê Karina Do Santo Isaton \n"
     ]
    }
   ],
   "source": [
    "name = soup.h2.string\n",
    "print(name)"
   ]
  },
  {
   "cell_type": "code",
   "execution_count": 4,
   "metadata": {},
   "outputs": [
    {
     "name": "stdout",
     "output_type": "stream",
     "text": [
      "\n",
      "(54) 9 - 8437-0140\n"
     ]
    }
   ],
   "source": [
    "ul_email = soup.find('ul', attrs={'class': 'portfolio-meta bottommargin'})\n",
    "val_li = ul_email.find_all('li')\n",
    "numero = val_li[3]\n",
    "for vals in numero:\n",
    "    print(vals.strip())"
   ]
  },
  {
   "cell_type": "code",
   "execution_count": 5,
   "metadata": {},
   "outputs": [
    {
     "ename": "IndexError",
     "evalue": "list index out of range",
     "output_type": "error",
     "traceback": [
      "\u001b[0;31m---------------------------------------------------------------------------\u001b[0m",
      "\u001b[0;31mIndexError\u001b[0m                                Traceback (most recent call last)",
      "\u001b[0;32m<ipython-input-5-9fd6231aaa97>\u001b[0m in \u001b[0;36m<module>\u001b[0;34m\u001b[0m\n\u001b[1;32m      2\u001b[0m \u001b[0mnums\u001b[0m \u001b[0;34m=\u001b[0m \u001b[0mtable_email_num\u001b[0m\u001b[0;34m.\u001b[0m\u001b[0mfind_all\u001b[0m\u001b[0;34m(\u001b[0m\u001b[0;34m'span'\u001b[0m\u001b[0;34m)\u001b[0m\u001b[0;34m\u001b[0m\u001b[0;34m\u001b[0m\u001b[0m\n\u001b[1;32m      3\u001b[0m \u001b[0;34m\u001b[0m\u001b[0m\n\u001b[0;32m----> 4\u001b[0;31m \u001b[0;32mfor\u001b[0m \u001b[0mval_num\u001b[0m \u001b[0;32min\u001b[0m \u001b[0mnums\u001b[0m\u001b[0;34m[\u001b[0m\u001b[0;34m-\u001b[0m\u001b[0;36m1\u001b[0m\u001b[0;34m]\u001b[0m\u001b[0;34m:\u001b[0m\u001b[0;34m\u001b[0m\u001b[0;34m\u001b[0m\u001b[0m\n\u001b[0m\u001b[1;32m      5\u001b[0m     \u001b[0mnum\u001b[0m \u001b[0;34m=\u001b[0m \u001b[0mval_num\u001b[0m\u001b[0;34m\u001b[0m\u001b[0;34m\u001b[0m\u001b[0m\n\u001b[1;32m      6\u001b[0m     \u001b[0mprint\u001b[0m\u001b[0;34m(\u001b[0m\u001b[0mnum\u001b[0m\u001b[0;34m)\u001b[0m\u001b[0;34m\u001b[0m\u001b[0;34m\u001b[0m\u001b[0m\n",
      "\u001b[0;31mIndexError\u001b[0m: list index out of range"
     ]
    }
   ],
   "source": [
    "table_email_num = soup.find('ul', attrs={'class': 'iconlist'})\n",
    "nums = table_email_num.find_all('span')\n",
    "\n",
    "for val_num in nums[-1]:\n",
    "    num = val_num\n",
    "    print(num)"
   ]
  },
  {
   "cell_type": "code",
   "execution_count": null,
   "metadata": {},
   "outputs": [],
   "source": [
    "table = soup.find('p', attrs={'class': 'product-description'}) # Pega o valor que tem na classe numero\n",
    "links_items = table.find_all('a') # Pega o local onde esta o nome\n",
    "print(links_items)"
   ]
  },
  {
   "cell_type": "code",
   "execution_count": null,
   "metadata": {},
   "outputs": [],
   "source": [
    "for num in links_items[0]:\n",
    "    print(num)\n",
    "    \n",
    "#for email in links_items[1]:\n",
    " #   print(email)"
   ]
  },
  {
   "cell_type": "code",
   "execution_count": null,
   "metadata": {},
   "outputs": [],
   "source": [
    "tables = soup.find('div', attrs={'class': 'details col-md-6'})\n",
    "links_items = tables.find_all('p') # Pega o local onde esta o nome\n",
    "for link in links_items:\n",
    "    email = link.contents[-1]\n",
    "    #for mai in email:\n",
    "    print(email.split()[0])\n",
    "    #print(link.prettify())"
   ]
  },
  {
   "cell_type": "code",
   "execution_count": null,
   "metadata": {},
   "outputs": [],
   "source": [
    "tables = soup.find('p', attrs={'class': 'product-description'})\n",
    "links_items = tables.find_all('p') # Pega o local onde esta o nome\n",
    "insta = links_items[2].find_all('span')\n",
    "for ins in insta[0]:\n",
    "    print(ins)"
   ]
  },
  {
   "cell_type": "code",
   "execution_count": null,
   "metadata": {},
   "outputs": [],
   "source": []
  },
  {
   "cell_type": "code",
   "execution_count": null,
   "metadata": {},
   "outputs": [],
   "source": [
    "table = soup.find('h2', attrs={'class': 'h-t2 v3'}) # Pega o valor que tem na classe numero\n",
    "nomes = table.find_all('span') # Pega o local onde esta o nome\n",
    "print(nomes)"
   ]
  },
  {
   "cell_type": "code",
   "execution_count": null,
   "metadata": {},
   "outputs": [],
   "source": [
    "for nome in nomes[0]:\n",
    "    print(nome)"
   ]
  },
  {
   "cell_type": "code",
   "execution_count": null,
   "metadata": {},
   "outputs": [],
   "source": [
    "for result in links_items:\n",
    "    names = result.contents[0] # pega o nome da pessoa\n",
    "    print(names)"
   ]
  },
  {
   "cell_type": "code",
   "execution_count": null,
   "metadata": {},
   "outputs": [],
   "source": []
  }
 ],
 "metadata": {
  "kernelspec": {
   "display_name": "Python 3",
   "language": "python",
   "name": "python3"
  },
  "language_info": {
   "codemirror_mode": {
    "name": "ipython",
    "version": 3
   },
   "file_extension": ".py",
   "mimetype": "text/x-python",
   "name": "python",
   "nbconvert_exporter": "python",
   "pygments_lexer": "ipython3",
   "version": "3.8.5"
  }
 },
 "nbformat": 4,
 "nbformat_minor": 4
}
