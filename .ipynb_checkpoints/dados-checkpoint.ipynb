{
 "cells": [
  {
   "cell_type": "code",
   "execution_count": 12,
   "metadata": {},
   "outputs": [],
   "source": [
    "import urllib.request # Usada pra consultar uma URL\n",
    "from prettytable import PrettyTable\n",
    "import csv\n",
    "from bs4 import BeautifulSoup # Analisa os dados retornados do site"
   ]
  },
  {
   "cell_type": "code",
   "execution_count": 13,
   "metadata": {},
   "outputs": [],
   "source": [
    "wiki = \"http://www.portalsdr.ba.gov.br/sipaf/Produto/read/88\"\n",
    "page = urllib.request.urlopen(wiki)\n",
    "soup = BeautifulSoup(page, 'html5lib')"
   ]
  },
  {
   "cell_type": "code",
   "execution_count": 14,
   "metadata": {},
   "outputs": [
    {
     "name": "stdout",
     "output_type": "stream",
     "text": [
      "8599154559\n"
     ]
    }
   ],
   "source": [
    "list_item_num = soup.find('span', attrs={'class': 'nu_telefone'}) # Pega o valor que tem na classe numero\n",
    "num = list_item_num.text.strip()\n",
    "print(num) # Mostra o numero"
   ]
  },
  {
   "cell_type": "code",
   "execution_count": 15,
   "metadata": {},
   "outputs": [
    {
     "name": "stdout",
     "output_type": "stream",
     "text": [
      "\n",
      "      IRANILDO FONTENELE DE BRITO\n",
      "    \n"
     ]
    }
   ],
   "source": [
    "links = soup.find(class_='col-md-12') # Pega a classe da tabela\n",
    "links_items = links.find_all('a') # Pega o local onde esta o nome\n",
    "# print(links_items) # Mostra o que tem dentro de 'a'\n",
    "\n",
    "for result in links_items:\n",
    "    names = result.contents[0] # pega o nome da pessoa\n",
    "    print(names)"
   ]
  },
  {
   "cell_type": "code",
   "execution_count": 24,
   "metadata": {},
   "outputs": [
    {
     "name": "stdout",
     "output_type": "stream",
     "text": [
      " tarcisiofont@hotmail.com \n"
     ]
    }
   ],
   "source": [
    "list1_item_name = soup.find('div', attrs={'class': 'col-md-12'})\n",
    "lista = list1_item_name.find_all('p')\n",
    "#print(lista)\n",
    "\n",
    "for result_email in lista:\n",
    "    val_email = result_email.contents[-1]\n",
    "    #val_email = email.text.strip()\n",
    "print(val_email)"
   ]
  },
  {
   "cell_type": "code",
   "execution_count": 11,
   "metadata": {},
   "outputs": [
    {
     "data": {
      "text/plain": [
       "81"
      ]
     },
     "execution_count": 11,
     "metadata": {},
     "output_type": "execute_result"
    }
   ],
   "source": [
    "f = csv.writer(open('dados.csv', 'w'))\n",
    "f.writerow(['Name', 'Phone', 'E-mail'])\n",
    "f.writerow([names, num, val_email])"
   ]
  },
  {
   "cell_type": "code",
   "execution_count": null,
   "metadata": {},
   "outputs": [],
   "source": []
  }
 ],
 "metadata": {
  "kernelspec": {
   "display_name": "Python 3",
   "language": "python",
   "name": "python3"
  },
  "language_info": {
   "codemirror_mode": {
    "name": "ipython",
    "version": 3
   },
   "file_extension": ".py",
   "mimetype": "text/x-python",
   "name": "python",
   "nbconvert_exporter": "python",
   "pygments_lexer": "ipython3",
   "version": "3.8.5"
  }
 },
 "nbformat": 4,
 "nbformat_minor": 4
}
