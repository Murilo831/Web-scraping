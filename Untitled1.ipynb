{
 "cells": [
  {
   "cell_type": "code",
   "execution_count": 1,
   "metadata": {},
   "outputs": [],
   "source": [
    "import urllib.request # Usada pra consultar uma URL\n",
    "import csv\n",
    "import requests\n",
    "from bs4 import BeautifulSoup # Analisa os dados retornados do site"
   ]
  },
  {
   "cell_type": "code",
   "execution_count": 2,
   "metadata": {},
   "outputs": [],
   "source": [
    "wiki = \"http://sistemas.agricultura.gov.br/vitrine/produto/abacate-7\"\n",
    "page = urllib.request.urlopen(wiki)\n",
    "soup = BeautifulSoup(page, 'html5lib')"
   ]
  },
  {
   "cell_type": "code",
   "execution_count": 3,
   "metadata": {},
   "outputs": [
    {
     "name": "stdout",
     "output_type": "stream",
     "text": [
      "[<p><strong>CNPJ:</strong> <span class=\"cnpj\">16858586000160</span></p>, <p><strong>Município:</strong> Águas Lindas de Goiás / GO</p>, <p><strong>Telefones:</strong> (61) 3618-7015 </p>, <p><strong>E-mail:</strong> admcompaf@gmail.com </p>]\n"
     ]
    }
   ],
   "source": [
    "list1_item_name = soup.find('div', attrs={'class': 'col-md-12'})\n",
    "lista = list1_item_name.find_all('p')\n",
    "print(lista)"
   ]
  },
  {
   "cell_type": "code",
   "execution_count": 16,
   "metadata": {},
   "outputs": [
    {
     "name": "stdout",
     "output_type": "stream",
     "text": [
      "<strong>E-mail:</strong>\n"
     ]
    }
   ],
   "source": [
    "for result_num in lista:\n",
    "    val_num = result_num.contents[0]\n",
    "print(val_num)"
   ]
  },
  {
   "cell_type": "code",
   "execution_count": null,
   "metadata": {},
   "outputs": [],
   "source": []
  }
 ],
 "metadata": {
  "kernelspec": {
   "display_name": "Python 3",
   "language": "python",
   "name": "python3"
  },
  "language_info": {
   "codemirror_mode": {
    "name": "ipython",
    "version": 3
   },
   "file_extension": ".py",
   "mimetype": "text/x-python",
   "name": "python",
   "nbconvert_exporter": "python",
   "pygments_lexer": "ipython3",
   "version": "3.8.5"
  }
 },
 "nbformat": 4,
 "nbformat_minor": 4
}
